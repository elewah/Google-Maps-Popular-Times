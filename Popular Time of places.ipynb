{
 "cells": [
  {
   "cell_type": "code",
   "execution_count": 18,
   "metadata": {},
   "outputs": [],
   "source": [
    "from selenium import webdriver\n",
    "from selenium.webdriver.common.by import By\n",
    "browser = webdriver.Firefox()\n",
    "browser.get('https://www.google.ca/maps/search/tim+hortons+downTown+toronto/@43.6495846,-79.4224086,11.56z')\n",
    "import time\n",
    "time.sleep(3)"
   ]
  },
  {
   "cell_type": "code",
   "execution_count": 19,
   "metadata": {},
   "outputs": [
    {
     "name": "stdout",
     "output_type": "stream",
     "text": [
      "javascript:void(0)\n",
      "https://www.google.ca/maps/place/Tim+Hortons/data=!4m5!3m4!1s0x882b34c867a250a7:0xc627ee02ec9e9a89!8m2!3d43.6594149!4d-79.3912214?authuser=0&hl=en&rclk=1\n",
      "https://www.google.ca/maps/place/Tim+Hortons/data=!4m5!3m4!1s0x882b34d30f14f071:0xaa18129910344868!8m2!3d43.6461046!4d-79.3825715?authuser=0&hl=en&rclk=1\n",
      "https://www.google.ca/maps/place/Tim+Hortons/data=!4m5!3m4!1s0x882b34cade23d8bf:0xde38b7e35a2ae749!8m2!3d43.656673!4d-79.3822318?authuser=0&hl=en&rclk=1\n",
      "https://www.google.ca/maps/place/Tim+Hortons,+lower+level/data=!4m5!3m4!1s0x882b3581adab2355:0xa1883f2fdda9e25f!8m2!3d43.6605974!4d-79.3838767?authuser=0&hl=en&rclk=1\n",
      "https://www.google.ca/maps/place/Tim+Hortons/data=!4m5!3m4!1s0x882b34c867a250a7:0xeb73153c5987b9b2!8m2!3d43.6583264!4d-79.390454?authuser=0&hl=en&rclk=1\n",
      "https://www.google.ca/maps/place/Tim+Hortons/data=!4m5!3m4!1s0x882b349c7b0c4df7:0xb23b1a1339c164d!8m2!3d43.6510236!4d-79.37024?authuser=0&hl=en&rclk=1\n",
      "https://www.google.ca/maps/place/Tim+Hortons+Brookfield+Place/data=!4m5!3m4!1s0x89d4cb2d3d1a83b9:0x32285cb5bf87d964!8m2!3d43.6471265!4d-79.3773047?authuser=0&hl=en&rclk=1\n",
      "https://www.google.ca/maps/place/Tim+Hortons/data=!4m5!3m4!1s0x89d4cb24388dbd39:0x9291ab94d8f681c3!8m2!3d43.6439676!4d-79.3654691?authuser=0&hl=en&rclk=1\n",
      "https://www.google.ca/maps/place/Tim+Hortons/data=!4m5!3m4!1s0x882b358c3e6a7847:0xf17f480b220a4b14!8m2!3d43.654051!4d-79.3857404?authuser=0&hl=en&rclk=1\n",
      "https://www.google.ca/maps/place/Tim+Hortons/data=!4m5!3m4!1s0x89d4cb998e5b6ebf:0x6bcac547db599f44!8m2!3d43.6416307!4d-79.3759622?authuser=0&hl=en&rclk=1\n",
      "https://www.google.ca/intl/en/about/products?tab=lh\n",
      "https://accounts.google.com/ServiceLogin?hl=en&passive=true&continue=https://www.google.ca/maps/search/tim%2Bhortons%2BdownTown%2Btoronto/%4043.6495846,-79.4224086,11.56z&service=local&ec=GAZAcQ\n",
      "javascript:void(0)\n",
      "javascript:void(0)\n",
      "None\n",
      "None\n",
      "None\n",
      "None\n",
      "None\n",
      "None\n",
      "None\n",
      "javascript:void(0)\n",
      "javascript:void(0)\n",
      "None\n",
      "javascript:void(0)\n",
      "None\n",
      "None\n",
      "None\n"
     ]
    }
   ],
   "source": [
    "# from selenium.webdriver.common.by import By\n",
    "anchor_tag = browser.find_elements(By.TAG_NAME , \"a\")\n",
    "# print(anchor_tag.get_attribute('href'))\n",
    "for element in  anchor_tag:\n",
    "    print(element.get_attribute('href'))"
   ]
  },
  {
   "cell_type": "code",
   "execution_count": 32,
   "metadata": {},
   "outputs": [],
   "source": [
    "# from selenium import webdriver\n",
    "\n",
    "# browser = webdriver.Firefox()\n",
    "# from selenium.webdriver.common.by import By\n",
    "browser.get('https://www.google.ca/maps/place/Tim+Hortons/data=!4m5!3m4!1s0x89d51e6c109c7bb9:0xe862cf9d09617ef7!8m2!3d43.8861392!4d-78.945305?authuser=0&hl=en&rclk=1')\n",
    "# browser.find_element_by_xpath('//input[@node-type=\"searchInput\"]')\n",
    "browser.execute_script(\"window.scrollTo(0, 20)\") \n",
    "# anchor_tag=browser.find_elements(By.CLASS_NAME , 'O9Q0Ff-NmME3c-Utye1-ZMv3u O9Q0Ff-NmME3c-Utye1-ZMv3u-SfQLQb-V67aGc')\n",
    "div_tag =browser.find_elements(By.TAG_NAME , \"div\")\n",
    "# # print(anchor_tag)\n",
    "for div in  div_tag:\n",
    "    if div.get_attribute('aria-label'):\n",
    "        if \"Currently\" in div.get_attribute('aria-label'):\n",
    "            print(div.get_attribute('aria-label'))\n",
    "#     if \"Currently\" in element.get_attribute('aria-label'):\n",
    "        \n",
    "#     except NoSuchElementException:\n",
    "        "
   ]
  },
  {
   "cell_type": "code",
   "execution_count": 33,
   "metadata": {},
   "outputs": [
    {
     "name": "stdout",
     "output_type": "stream",
     "text": [
      "Address: 516 Brock St N, Whitby, ON L1N 4J2 \n"
     ]
    }
   ],
   "source": [
    "browser.get('https://www.google.ca/maps/place/Tim+Hortons/data=!4m5!3m4!1s0x89d51e6c109c7bb9:0xe862cf9d09617ef7!8m2!3d43.8861392!4d-78.945305?authuser=0&hl=en&rclk=1')\n",
    "# browser.find_element_by_xpath('//input[@node-type=\"searchInput\"]')\n",
    "browser.execute_script(\"window.scrollTo(0, 20)\") \n",
    "# anchor_tag=browser.find_elements(By.CLASS_NAME , 'O9Q0Ff-NmME3c-Utye1-ZMv3u O9Q0Ff-NmME3c-Utye1-ZMv3u-SfQLQb-V67aGc')\n",
    "data_item_id=browser.find_elements(By.XPATH,\"//button[@data-item-id='address']\")\n",
    "div_tag =browser.find_elements(By.TAG_NAME , \"div\")\n",
    "# # print(anchor_tag)\n",
    "# for div in  div_tag:\n",
    "#     if div.get_attribute('aria-label'):\n",
    "# #         if \"Currently\" in div.get_attribute('aria-label'):\n",
    "#             print(div.get_attribute('aria-label'))\n",
    "# #     if \"Currently\" in element.get_attribute('aria-label'):\n",
    "\n",
    "for div in  data_item_id:\n",
    "    if div.get_attribute('aria-label'):\n",
    "#         if \"Currently\" in div.get_attribute('aria-label'):\n",
    "            print(div.get_attribute('aria-label'))\n",
    "#     if \"Currently\" in element.get_attribute('aria-label'):"
   ]
  },
  {
   "cell_type": "code",
   "execution_count": 31,
   "metadata": {},
   "outputs": [
    {
     "name": "stdout",
     "output_type": "stream",
     "text": [
      "Enter a location\n",
      "ChIJjcVLBGwe1YkRIneayfZZe08\n",
      "[<selenium.webdriver.remote.webelement.WebElement (session=\"0cae4f2a-037f-4b30-98bd-026f47f2dbbb\", element=\"43a7e69a-1f6d-4406-b44b-ecc8e3fb7e14\")>]\n",
      "ChIJjcVLBGwe1YkRIneayfZZe08\n"
     ]
    }
   ],
   "source": [
    "from selenium.webdriver.common.keys import Keys\n",
    "from selenium.webdriver import ActionChains\n",
    "\n",
    "import time\n",
    "browser.get('https://googlemaps.github.io/js-samples/dist/samples/places-placeid-finder/index.html')\n",
    "# id=\"pac-input\"\n",
    "input_text= browser.find_element(By.XPATH,\"//input[@id='pac-input']\")\n",
    "# for i in input_text:\n",
    "print(input_text.get_attribute('placeholder'))\n",
    "time.sleep(5)\n",
    "input_text.click()\n",
    "# input_text.send_keys(Keys.ENTER)\n",
    "input_text.send_keys(\"516 Brock St N, Whitby, ON L1N 4J2, Canada\")\n",
    "time.sleep(2)\n",
    "input_text.send_keys(Keys.ARROW_DOWN)\n",
    "input_text.send_keys(Keys.ENTER)\n",
    "# input_text.submit()\n",
    "time.sleep(2)\n",
    "by_ID=browser.find_elements(By.XPATH, \"//span[@id='place-id']\")\n",
    "for i in by_ID:\n",
    "    print(i.text)\n",
    "print(by_ID)\n",
    "print(browser.find_element(By.XPATH, \"//span[@id='place-id']\").text)"
   ]
  },
  {
   "cell_type": "code",
   "execution_count": 35,
   "metadata": {},
   "outputs": [
    {
     "name": "stdout",
     "output_type": "stream",
     "text": [
      "\n"
     ]
    }
   ],
   "source": [
    "browser.get('https://googlemaps.github.io/js-samples/dist/samples/places-placeid-finder/index.html')\n",
    "by_ID=browser.find_element(By.ID, 'place-id').text\n",
    "\n",
    "print(by_ID)    "
   ]
  },
  {
   "cell_type": "code",
   "execution_count": null,
   "metadata": {},
   "outputs": [],
   "source": []
  }
 ],
 "metadata": {
  "kernelspec": {
   "display_name": "Python 3",
   "language": "python",
   "name": "python3"
  },
  "language_info": {
   "codemirror_mode": {
    "name": "ipython",
    "version": 3
   },
   "file_extension": ".py",
   "mimetype": "text/x-python",
   "name": "python",
   "nbconvert_exporter": "python",
   "pygments_lexer": "ipython3",
   "version": "3.8.3"
  }
 },
 "nbformat": 4,
 "nbformat_minor": 4
}
