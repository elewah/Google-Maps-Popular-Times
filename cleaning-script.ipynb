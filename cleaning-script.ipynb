{
 "cells": [
  {
   "cell_type": "code",
   "execution_count": 16,
   "metadata": {},
   "outputs": [
    {
     "name": "stdout",
     "output_type": "stream",
     "text": [
      "<class 'pandas.core.frame.DataFrame'>\n",
      "RangeIndex: 173 entries, 0 to 172\n",
      "Data columns (total 11 columns):\n",
      " #   Column                 Non-Null Count  Dtype \n",
      "---  ------                 --------------  ----- \n",
      " 0   GoogleID               173 non-null    object\n",
      " 1   currently-occupied-by  173 non-null    int64 \n",
      " 2   name                   173 non-null    object\n",
      " 3   address                173 non-null    object\n",
      " 4   Sunday                 173 non-null    object\n",
      " 5   Monday                 173 non-null    object\n",
      " 6   Tuesday                173 non-null    object\n",
      " 7   Wednesday              173 non-null    object\n",
      " 8   Thursday               173 non-null    object\n",
      " 9   Friday                 173 non-null    object\n",
      " 10  Saturday               173 non-null    object\n",
      "dtypes: int64(1), object(10)\n",
      "memory usage: 15.0+ KB\n",
      "None\n",
      "<class 'pandas.core.frame.DataFrame'>\n",
      "Int64Index: 68 entries, 0 to 168\n",
      "Data columns (total 11 columns):\n",
      " #   Column                 Non-Null Count  Dtype \n",
      "---  ------                 --------------  ----- \n",
      " 0   GoogleID               68 non-null     object\n",
      " 1   currently-occupied-by  68 non-null     int64 \n",
      " 2   name                   68 non-null     object\n",
      " 3   address                68 non-null     object\n",
      " 4   Sunday                 68 non-null     object\n",
      " 5   Monday                 68 non-null     object\n",
      " 6   Tuesday                68 non-null     object\n",
      " 7   Wednesday              68 non-null     object\n",
      " 8   Thursday               68 non-null     object\n",
      " 9   Friday                 68 non-null     object\n",
      " 10  Saturday               68 non-null     object\n",
      "dtypes: int64(1), object(10)\n",
      "memory usage: 6.4+ KB\n",
      "None\n",
      "<class 'pandas.core.frame.DataFrame'>\n",
      "Int64Index: 68 entries, 0 to 168\n",
      "Data columns (total 11 columns):\n",
      " #   Column                 Non-Null Count  Dtype \n",
      "---  ------                 --------------  ----- \n",
      " 0   GoogleID               68 non-null     object\n",
      " 1   currently-occupied-by  68 non-null     int64 \n",
      " 2   name                   68 non-null     object\n",
      " 3   address                68 non-null     object\n",
      " 4   Sunday                 68 non-null     object\n",
      " 5   Monday                 68 non-null     object\n",
      " 6   Tuesday                68 non-null     object\n",
      " 7   Wednesday              68 non-null     object\n",
      " 8   Thursday               68 non-null     object\n",
      " 9   Friday                 68 non-null     object\n",
      " 10  Saturday               68 non-null     object\n",
      "dtypes: int64(1), object(10)\n",
      "memory usage: 6.4+ KB\n",
      "None\n"
     ]
    }
   ],
   "source": [
    "import pandas as pd\n",
    "df = pd.read_csv ('Data.csv')\n",
    "print(df.info())\n",
    "print(df.drop_duplicates(subset = [\"GoogleID\"]).info())\n",
    "df =df.drop_duplicates(subset = [\"GoogleID\"])\n",
    "print(df.info())"
   ]
  },
  {
   "cell_type": "code",
   "execution_count": null,
   "metadata": {},
   "outputs": [],
   "source": []
  }
 ],
 "metadata": {
  "kernelspec": {
   "display_name": "Python 3",
   "language": "python",
   "name": "python3"
  },
  "language_info": {
   "codemirror_mode": {
    "name": "ipython",
    "version": 3
   },
   "file_extension": ".py",
   "mimetype": "text/x-python",
   "name": "python",
   "nbconvert_exporter": "python",
   "pygments_lexer": "ipython3",
   "version": "3.8.3"
  }
 },
 "nbformat": 4,
 "nbformat_minor": 4
}
