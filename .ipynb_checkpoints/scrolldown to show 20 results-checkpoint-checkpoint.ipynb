{
 "cells": [
  {
   "cell_type": "code",
   "execution_count": 24,
   "metadata": {},
   "outputs": [
    {
     "name": "stdout",
     "output_type": "stream",
     "text": [
      "https://www.google.ca/maps/place/Tim+Hortons/data=!4m5!3m4!1s0x89d51b9a8b4b0ebb:0xa717253c76ccb56c!8m2!3d43.9449244!4d-78.8934687?authuser=0&hl=en&rclk=1\n",
      "https://www.google.ca/maps/place/Tim+Hortons/data=!4m5!3m4!1s0x89d5198ffa51df95:0x8001d72a107b210a!8m2!3d43.9503428!4d-78.9604475?authuser=0&hl=en&rclk=1\n",
      "https://www.google.ca/maps/place/Tim+Hortons/data=!4m5!3m4!1s0x89d51b4ff59b1c35:0x72013ff7673f4cba!8m2!3d43.9403317!4d-78.848318?authuser=0&hl=en&rclk=1\n",
      "https://www.google.ca/maps/place/Tim+Hortons/data=!4m5!3m4!1s0x89d51d1b6468be21:0x8141c7c65cd11bb2!8m2!3d43.8946665!4d-78.8737526?authuser=0&hl=en&rclk=1\n",
      "https://www.google.ca/maps/place/Tim+Hortons/data=!4m5!3m4!1s0x89d51ceef71633a3:0x4e6fafdeee929545!8m2!3d43.9056574!4d-78.8691255?authuser=0&hl=en&rclk=1\n",
      "https://www.google.ca/maps/place/Tim+Hortons/data=!4m5!3m4!1s0x89d51c821ff9a0bf:0xfdae22bd41b4094c!8m2!3d43.9306684!4d-78.8771756?authuser=0&hl=en&rclk=1\n",
      "https://www.google.ca/maps/place/Tim+Hortons/data=!4m5!3m4!1s0x89d51d41636c962d:0x204433c339c08ea8!8m2!3d43.868186!4d-78.8578656?authuser=0&hl=en&rclk=1\n",
      "https://www.google.ca/maps/place/Tim+Hortons/data=!4m5!3m4!1s0x89d51d93e0308221:0xcbc1c6f90ba84ae3!8m2!3d43.871866!4d-78.901163?authuser=0&hl=en&rclk=1\n",
      "https://www.google.ca/maps/place/Tim+Hortons/data=!4m5!3m4!1s0x89d51b63e600eec5:0x51b97984bcff5b44!8m2!3d43.9329613!4d-78.8666439?authuser=0&hl=en&rclk=1\n",
      "https://www.google.ca/maps/place/Tim+Hortons/data=!4m5!3m4!1s0x89d51c1df119876f:0xb0953760d65e93f!8m2!3d43.9229586!4d-78.9275998?authuser=0&hl=en&rclk=1\n",
      "https://www.google.ca/maps/place/Tim+Hortons/data=!4m5!3m4!1s0x89d51eef1a58bb63:0xe94e27bc02833462!8m2!3d43.9154661!4d-78.9584774?authuser=0&hl=en&rclk=1\n",
      "https://www.google.ca/maps/place/Tim+Hortons/data=!4m5!3m4!1s0x89d5014f3ddabbdb:0xf2e2a59b628cacc9!8m2!3d43.9068299!4d-78.7106547?authuser=0&hl=en&rclk=1\n",
      "https://www.google.ca/maps/place/Tim+Hortons/data=!4m5!3m4!1s0x89d51ccdd27a1607:0x7d62d933e5faa93f!8m2!3d43.9025137!4d-78.8437995?authuser=0&hl=en&rclk=1\n",
      "https://www.google.ca/maps/place/Tim+Hortons/data=!4m5!3m4!1s0x89d4dfccd2e08d35:0x8e8c13dd11632f33!8m2!3d43.8341569!4d-79.0336525?authuser=0&hl=en&rclk=1\n",
      "https://www.google.ca/maps/place/Tim+Hortons/data=!4m5!3m4!1s0x89d51e881080a001:0xefeffa48f786765a!8m2!3d43.9007838!4d-78.9409779?authuser=0&hl=en&rclk=1\n",
      "https://www.google.ca/maps/place/Tim+Hortons/data=!4m5!3m4!1s0x89d4e06df260a28f:0xeaf79b7c3221f201!8m2!3d43.8463119!4d-79.0065975?authuser=0&hl=en&rclk=1\n",
      "https://www.google.ca/maps/place/Tim+Hortons/data=!4m5!3m4!1s0x89d51b3a862c0151:0x604ff0c0fbb6faf7!8m2!3d43.938617!4d-78.8510611?authuser=0&hl=en&rclk=1\n",
      "https://www.google.ca/maps/place/Tim+Hortons/data=!4m5!3m4!1s0x89d4df045d6bc77f:0x980dfe00468a414c!8m2!3d43.8428922!4d-79.0726934?authuser=0&hl=en&rclk=1\n",
      "https://www.google.ca/maps/place/Tim+Hortons/data=!4m5!3m4!1s0x89d51b9a8b4b0ebb:0xa717253c76ccb56c!8m2!3d43.9449244!4d-78.8934687?authuser=0&hl=en&rclk=1\n",
      "https://www.google.ca/maps/place/Tim+Hortons/data=!4m5!3m4!1s0x89d4dec2a41be54f:0xf47e11964f69f0ab!8m2!3d43.8282926!4d-79.0877505?authuser=0&hl=en&rclk=1\n",
      "https://www.google.ca/maps/place/Tim+Hortons/data=!4m5!3m4!1s0x89d51b4ff59b1c35:0x72013ff7673f4cba!8m2!3d43.9403317!4d-78.848318?authuser=0&hl=en&rclk=1\n",
      "https://www.google.ca/maps/place/Tim+Hortons/data=!4m5!3m4!1s0x89d51d1b6468be21:0x8141c7c65cd11bb2!8m2!3d43.8946665!4d-78.8737526?authuser=0&hl=en&rclk=1\n",
      "https://www.google.ca/maps/place/Tim+Hortons/data=!4m5!3m4!1s0x89d51ceef71633a3:0x4e6fafdeee929545!8m2!3d43.9056574!4d-78.8691255?authuser=0&hl=en&rclk=1\n",
      "https://www.google.ca/maps/place/Tim+Hortons/data=!4m5!3m4!1s0x89d51c821ff9a0bf:0xfdae22bd41b4094c!8m2!3d43.9306684!4d-78.8771756?authuser=0&hl=en&rclk=1\n",
      "https://www.google.ca/maps/place/Tim+Hortons/data=!4m5!3m4!1s0x89d51e3c4bcc32bb:0x59d1acde8566de99!8m2!3d43.8765685!4d-78.954512?authuser=0&hl=en&rclk=1\n",
      "https://www.google.ca/maps/place/Tim+Hortons/data=!4m5!3m4!1s0x89d51d000cc231a3:0x98b34f2d32f902ee!8m2!3d43.8935876!4d-78.8830899?authuser=0&hl=en&rclk=1\n",
      "https://www.google.ca/maps/place/Tim+Hortons/data=!4m5!3m4!1s0x89d51db7a44511e9:0x3548a6a37ba78dbf!8m2!3d43.8889277!4d-78.9039749?authuser=0&hl=en&rclk=1\n",
      "https://www.google.ca/maps/place/Tim+Hortons/data=!4m5!3m4!1s0x89d51cc9d510cee5:0xf0ca41ae8e1bfc6a!8m2!3d43.9069847!4d-78.8563992?authuser=0&hl=en&rclk=1\n",
      "https://www.google.ca/maps/place/Tim+Hortons/data=!4m5!3m4!1s0x89d5193ad90c307b:0x9c28dc27aba3b1d3!8m2!3d43.9516504!4d-78.961633?authuser=0&hl=en&rclk=1\n",
      "https://www.google.ca/maps/place/Tim+Hortons/data=!4m5!3m4!1s0x89d51d93493e3715:0x4b562438d38bef97!8m2!3d43.8722772!4d-78.9056338?authuser=0&hl=en&rclk=1\n",
      "https://www.google.ca/maps/place/Tim+Hortons/data=!4m5!3m4!1s0x89d51cfd916849e5:0x9861616e982e2eaa!8m2!3d43.8903579!4d-78.8802746?authuser=0&hl=en&rclk=1\n",
      "https://www.google.ca/maps/place/Tim+Hortons/data=!4m5!3m4!1s0x89d51cdd19aaaaab:0xbcfc899b70896d30!8m2!3d43.9003294!4d-78.858664?authuser=0&hl=en&rclk=1\n",
      "https://www.google.ca/maps/place/Tim+Hortons/data=!4m5!3m4!1s0x89d5a722561e8e93:0x6a59ebe2c161dec4!8m2!3d44.036579!4d-78.6154032?authuser=0&hl=en&rclk=1\n",
      "https://www.google.ca/maps/place/Tim+Hortons/data=!4m5!3m4!1s0x89d51a376723b51b:0x7ecf91f53322ba52!8m2!3d43.9817044!4d-78.9106563?authuser=0&hl=en&rclk=1\n",
      "https://www.google.ca/maps/place/Tim+Hortons/data=!4m5!3m4!1s0x89d51e3a9afeaedb:0x8f2bc129bab75c34!8m2!3d43.8757217!4d-78.9622239?authuser=0&hl=en&rclk=1\n",
      "https://www.google.ca/maps/place/Tim+Hortons/data=!4m5!3m4!1s0x89d51cfd916849e5:0x151a45a95bb7ce90!8m2!3d43.8955441!4d-78.8762113?authuser=0&hl=en&rclk=1\n",
      "https://www.google.ca/maps/place/Tim+Hortons/data=!4m5!3m4!1s0x89d51440d3f27cd7:0xb5fdeda71f60a61b!8m2!3d44.1105529!4d-78.9572373?authuser=0&hl=en&rclk=1\n",
      "https://www.google.ca/maps/place/Tim+Hortons/data=!4m5!3m4!1s0x89d515c2812d293f:0x2d206e35dcf5a6f2!8m2!3d44.1001214!4d-78.9450136?authuser=0&hl=en&rclk=1\n",
      "https://www.google.ca/maps/place/Tim+Hortons/data=!4m5!3m4!1s0x89d4dbd8074ec839:0x879425d660d36cf9!8m2!3d43.7833283!4d-79.1870609?authuser=0&hl=en&rclk=1\n",
      "https://www.google.ca/maps/place/Tim+Hortons/data=!4m5!3m4!1s0x89d4dec2a41be54f:0xf47e11964f69f0ab!8m2!3d43.8282926!4d-79.0877505?authuser=0&hl=en&rclk=1\n",
      "https://www.google.ca/maps/place/Tim+Hortons/data=!4m5!3m4!1s0x89d51b4ff59b1c35:0x72013ff7673f4cba!8m2!3d43.9403317!4d-78.848318?authuser=0&hl=en&rclk=1\n",
      "https://www.google.ca/maps/place/Tim+Hortons/data=!4m5!3m4!1s0x89d51d1b6468be21:0x8141c7c65cd11bb2!8m2!3d43.8946665!4d-78.8737526?authuser=0&hl=en&rclk=1\n",
      "https://www.google.ca/maps/place/Tim+Hortons/data=!4m5!3m4!1s0x89d51ceef71633a3:0x4e6fafdeee929545!8m2!3d43.9056574!4d-78.8691255?authuser=0&hl=en&rclk=1\n",
      "https://www.google.ca/maps/place/Tim+Hortons/data=!4m5!3m4!1s0x89d51c821ff9a0bf:0xfdae22bd41b4094c!8m2!3d43.9306684!4d-78.8771756?authuser=0&hl=en&rclk=1\n",
      "https://www.google.ca/maps/place/Tim+Hortons/data=!4m5!3m4!1s0x89d51e3c4bcc32bb:0x59d1acde8566de99!8m2!3d43.8765685!4d-78.954512?authuser=0&hl=en&rclk=1\n",
      "https://www.google.ca/maps/place/Tim+Hortons/data=!4m5!3m4!1s0x89d5203b9a130fb5:0x82e0269fcf9057cf!8m2!3d43.8968216!4d-79.0333325?authuser=0&hl=en&rclk=1\n",
      "https://www.google.ca/maps/place/Tim+Hortons/data=!4m5!3m4!1s0x89d4d63245b5e28d:0xdddfe83409cc6e1e!8m2!3d43.8839364!4d-79.2313412?authuser=0&hl=en&rclk=1\n",
      "https://www.google.ca/maps/place/Tim+Hortons/data=!4m5!3m4!1s0x89d51942771fd3ff:0xa92f958f31f71cd6!8m2!3d43.9569016!4d-78.943976?authuser=0&hl=en&rclk=1\n",
      "https://www.google.ca/maps/place/Tim+Hortons/data=!4m5!3m4!1s0x89d51b3a862c0151:0x604ff0c0fbb6faf7!8m2!3d43.938617!4d-78.8510611?authuser=0&hl=en&rclk=1\n",
      "https://www.google.ca/maps/place/Tim+Hortons/data=!4m5!3m4!1s0x89d51d3ab1748829:0x61d9ad97e792070d!8m2!3d43.8819278!4d-78.8505828?authuser=0&hl=en&rclk=1\n",
      "https://www.google.ca/maps/place/Tim+Hortons/data=!4m5!3m4!1s0x89d5200494344859:0x3d9fd15e3c04286b!8m2!3d43.878935!4d-79.0259939?authuser=0&hl=en&rclk=1\n",
      "https://www.google.ca/maps/place/Tim+Hortons/data=!4m5!3m4!1s0x89d4da6f7b288a19:0x6aaa869037cc8a80!8m2!3d43.7838911!4d-79.1869731?authuser=0&hl=en&rclk=1\n",
      "https://www.google.ca/maps/place/Tim+Hortons/data=!4m5!3m4!1s0x89d4d1e43bd167bd:0xaff933617d205ce6!8m2!3d43.7500656!4d-79.2740124?authuser=0&hl=en&rclk=1\n",
      "https://www.google.ca/maps/place/Tim+Hortons/data=!4m5!3m4!1s0x89d4d25864ea4fdb:0x69a4a6c8a5ad6e23!8m2!3d43.7784782!4d-79.3441559?authuser=0&hl=en&rclk=1\n",
      "https://www.google.ca/maps/place/Tim+Hortons/data=!4m5!3m4!1s0x89d51e62ce4073d3:0x7b2dbaf8def856c7!8m2!3d43.8987359!4d-78.94045?authuser=0&hl=en&rclk=1\n",
      "https://www.google.ca/maps/place/Tim+Hortons/data=!4m5!3m4!1s0x89d4d0e4feb521f9:0xcbd410edf991c8ae!8m2!3d43.7891367!4d-79.237285?authuser=0&hl=en&rclk=1\n"
     ]
    },
    {
     "name": "stdout",
     "output_type": "stream",
     "text": [
      "https://www.google.ca/maps/place/Tim+Hortons/data=!4m5!3m4!1s0x89d51b461e7c366b:0x499480e2ef8396df!8m2!3d43.9441926!4d-78.8489245?authuser=0&hl=en&rclk=1\n",
      "https://www.google.ca/maps/place/Tim+Hortons/data=!4m5!3m4!1s0x89d51e04031c17cd:0xa9bd54835e537aeb!8m2!3d43.8671288!4d-78.9346352?authuser=0&hl=en&rclk=1\n"
     ]
    },
    {
     "ename": "WebDriverException",
     "evalue": "Message: Failed to decode response from marionette\n",
     "output_type": "error",
     "traceback": [
      "\u001b[1;31m---------------------------------------------------------------------------\u001b[0m",
      "\u001b[1;31mWebDriverException\u001b[0m                        Traceback (most recent call last)",
      "\u001b[1;32m<ipython-input-24-5511b8546bdb>\u001b[0m in \u001b[0;36m<module>\u001b[1;34m\u001b[0m\n\u001b[0;32m     29\u001b[0m                 \u001b[0mprint\u001b[0m\u001b[1;33m(\u001b[0m\u001b[0melement\u001b[0m\u001b[1;33m.\u001b[0m\u001b[0mget_attribute\u001b[0m\u001b[1;33m(\u001b[0m\u001b[1;34m'href'\u001b[0m\u001b[1;33m)\u001b[0m\u001b[1;33m)\u001b[0m\u001b[1;33m\u001b[0m\u001b[1;33m\u001b[0m\u001b[0m\n\u001b[0;32m     30\u001b[0m     \u001b[0mtime\u001b[0m\u001b[1;33m.\u001b[0m\u001b[0msleep\u001b[0m\u001b[1;33m(\u001b[0m\u001b[1;36m5\u001b[0m\u001b[1;33m)\u001b[0m\u001b[1;33m\u001b[0m\u001b[1;33m\u001b[0m\u001b[0m\n\u001b[1;32m---> 31\u001b[1;33m     \u001b[0mNextpage\u001b[0m\u001b[1;33m=\u001b[0m\u001b[0mbrowser\u001b[0m\u001b[1;33m.\u001b[0m\u001b[0mfind_element\u001b[0m\u001b[1;33m(\u001b[0m\u001b[0mBy\u001b[0m\u001b[1;33m.\u001b[0m\u001b[0mXPATH\u001b[0m\u001b[1;33m,\u001b[0m\u001b[1;34m\"//button[@aria-label=' Next page ']\"\u001b[0m\u001b[1;33m)\u001b[0m\u001b[1;33m\u001b[0m\u001b[1;33m\u001b[0m\u001b[0m\n\u001b[0m\u001b[0;32m     32\u001b[0m     \u001b[0mNextpage\u001b[0m\u001b[1;33m.\u001b[0m\u001b[0mclick\u001b[0m\u001b[1;33m(\u001b[0m\u001b[1;33m)\u001b[0m\u001b[1;33m\u001b[0m\u001b[1;33m\u001b[0m\u001b[0m\n\u001b[0;32m     33\u001b[0m     \u001b[0mtime\u001b[0m\u001b[1;33m.\u001b[0m\u001b[0msleep\u001b[0m\u001b[1;33m(\u001b[0m\u001b[1;36m5\u001b[0m\u001b[1;33m)\u001b[0m\u001b[1;33m\u001b[0m\u001b[1;33m\u001b[0m\u001b[0m\n",
      "\u001b[1;32mC:\\py\\lib\\site-packages\\selenium\\webdriver\\remote\\webdriver.py\u001b[0m in \u001b[0;36mfind_element\u001b[1;34m(self, by, value)\u001b[0m\n\u001b[0;32m   1236\u001b[0m             \u001b[0mvalue\u001b[0m \u001b[1;33m=\u001b[0m \u001b[1;34m'[name=\"%s\"]'\u001b[0m \u001b[1;33m%\u001b[0m \u001b[0mvalue\u001b[0m\u001b[1;33m\u001b[0m\u001b[1;33m\u001b[0m\u001b[0m\n\u001b[0;32m   1237\u001b[0m \u001b[1;33m\u001b[0m\u001b[0m\n\u001b[1;32m-> 1238\u001b[1;33m         return self.execute(Command.FIND_ELEMENT, {\n\u001b[0m\u001b[0;32m   1239\u001b[0m             \u001b[1;34m'using'\u001b[0m\u001b[1;33m:\u001b[0m \u001b[0mby\u001b[0m\u001b[1;33m,\u001b[0m\u001b[1;33m\u001b[0m\u001b[1;33m\u001b[0m\u001b[0m\n\u001b[0;32m   1240\u001b[0m             'value': value})['value']\n",
      "\u001b[1;32mC:\\py\\lib\\site-packages\\selenium\\webdriver\\remote\\webdriver.py\u001b[0m in \u001b[0;36mexecute\u001b[1;34m(self, driver_command, params)\u001b[0m\n\u001b[0;32m    416\u001b[0m         \u001b[0mresponse\u001b[0m \u001b[1;33m=\u001b[0m \u001b[0mself\u001b[0m\u001b[1;33m.\u001b[0m\u001b[0mcommand_executor\u001b[0m\u001b[1;33m.\u001b[0m\u001b[0mexecute\u001b[0m\u001b[1;33m(\u001b[0m\u001b[0mdriver_command\u001b[0m\u001b[1;33m,\u001b[0m \u001b[0mparams\u001b[0m\u001b[1;33m)\u001b[0m\u001b[1;33m\u001b[0m\u001b[1;33m\u001b[0m\u001b[0m\n\u001b[0;32m    417\u001b[0m         \u001b[1;32mif\u001b[0m \u001b[0mresponse\u001b[0m\u001b[1;33m:\u001b[0m\u001b[1;33m\u001b[0m\u001b[1;33m\u001b[0m\u001b[0m\n\u001b[1;32m--> 418\u001b[1;33m             \u001b[0mself\u001b[0m\u001b[1;33m.\u001b[0m\u001b[0merror_handler\u001b[0m\u001b[1;33m.\u001b[0m\u001b[0mcheck_response\u001b[0m\u001b[1;33m(\u001b[0m\u001b[0mresponse\u001b[0m\u001b[1;33m)\u001b[0m\u001b[1;33m\u001b[0m\u001b[1;33m\u001b[0m\u001b[0m\n\u001b[0m\u001b[0;32m    419\u001b[0m             response['value'] = self._unwrap_value(\n\u001b[0;32m    420\u001b[0m                 response.get('value', None))\n",
      "\u001b[1;32mC:\\py\\lib\\site-packages\\selenium\\webdriver\\remote\\errorhandler.py\u001b[0m in \u001b[0;36mcheck_response\u001b[1;34m(self, response)\u001b[0m\n\u001b[0;32m    241\u001b[0m                 \u001b[0malert_text\u001b[0m \u001b[1;33m=\u001b[0m \u001b[0mvalue\u001b[0m\u001b[1;33m[\u001b[0m\u001b[1;34m'alert'\u001b[0m\u001b[1;33m]\u001b[0m\u001b[1;33m.\u001b[0m\u001b[0mget\u001b[0m\u001b[1;33m(\u001b[0m\u001b[1;34m'text'\u001b[0m\u001b[1;33m)\u001b[0m\u001b[1;33m\u001b[0m\u001b[1;33m\u001b[0m\u001b[0m\n\u001b[0;32m    242\u001b[0m             \u001b[1;32mraise\u001b[0m \u001b[0mexception_class\u001b[0m\u001b[1;33m(\u001b[0m\u001b[0mmessage\u001b[0m\u001b[1;33m,\u001b[0m \u001b[0mscreen\u001b[0m\u001b[1;33m,\u001b[0m \u001b[0mstacktrace\u001b[0m\u001b[1;33m,\u001b[0m \u001b[0malert_text\u001b[0m\u001b[1;33m)\u001b[0m  \u001b[1;31m# type: ignore[call-arg]  # mypy is not smart enough here\u001b[0m\u001b[1;33m\u001b[0m\u001b[1;33m\u001b[0m\u001b[0m\n\u001b[1;32m--> 243\u001b[1;33m         \u001b[1;32mraise\u001b[0m \u001b[0mexception_class\u001b[0m\u001b[1;33m(\u001b[0m\u001b[0mmessage\u001b[0m\u001b[1;33m,\u001b[0m \u001b[0mscreen\u001b[0m\u001b[1;33m,\u001b[0m \u001b[0mstacktrace\u001b[0m\u001b[1;33m)\u001b[0m\u001b[1;33m\u001b[0m\u001b[1;33m\u001b[0m\u001b[0m\n\u001b[0m\u001b[0;32m    244\u001b[0m \u001b[1;33m\u001b[0m\u001b[0m\n\u001b[0;32m    245\u001b[0m     \u001b[1;32mdef\u001b[0m \u001b[0m_value_or_default\u001b[0m\u001b[1;33m(\u001b[0m\u001b[0mself\u001b[0m\u001b[1;33m,\u001b[0m \u001b[0mobj\u001b[0m\u001b[1;33m:\u001b[0m \u001b[0mMapping\u001b[0m\u001b[1;33m[\u001b[0m\u001b[0m_KT\u001b[0m\u001b[1;33m,\u001b[0m \u001b[0m_VT\u001b[0m\u001b[1;33m]\u001b[0m\u001b[1;33m,\u001b[0m \u001b[0mkey\u001b[0m\u001b[1;33m:\u001b[0m \u001b[0m_KT\u001b[0m\u001b[1;33m,\u001b[0m \u001b[0mdefault\u001b[0m\u001b[1;33m:\u001b[0m \u001b[0m_VT\u001b[0m\u001b[1;33m)\u001b[0m \u001b[1;33m->\u001b[0m \u001b[0m_VT\u001b[0m\u001b[1;33m:\u001b[0m\u001b[1;33m\u001b[0m\u001b[1;33m\u001b[0m\u001b[0m\n",
      "\u001b[1;31mWebDriverException\u001b[0m: Message: Failed to decode response from marionette\n"
     ]
    }
   ],
   "source": [
    "from selenium import webdriver\n",
    "from selenium.webdriver.common.by import By\n",
    "from selenium.webdriver.common.keys import Keys\n",
    "from selenium.webdriver import ActionChains\n",
    "import time\n",
    "## trial with pressing next page button however google sometimes response the same url\n",
    "# siAUzd-neVct section-scrollbox cYB2Ge-oHo7ed cYB2Ge-ti6hGc siAUzd-neVct-Q3DXx-BvBYQ siAUzd-neVct-YbohUe-bnBfGc\n",
    "##################################\n",
    "url = 'https://www.google.ca/maps/search/tim+hortons/@43.9095261,-78.9553054,10z'\n",
    "browser = webdriver.Firefox()\n",
    "browser.get(url)\n",
    "\n",
    "for k in range(5):\n",
    "    for j in range(5):\n",
    "        anchor_tag = browser.find_elements(By.TAG_NAME , \"a\")\n",
    "        for element in  anchor_tag:\n",
    "            if element.get_attribute('href'):\n",
    "                if \"Tim+Horton\"in element.get_attribute('href'):\n",
    "                    bar= element\n",
    "        #     print(element.get_attribute('href'))\n",
    "        for i in range(2):\n",
    "            bar.location_once_scrolled_into_view\n",
    "\n",
    "    # time.sleep(1)\n",
    "    anchor_tag = browser.find_elements(By.TAG_NAME , \"a\")\n",
    "    for element in  anchor_tag:\n",
    "        if element.get_attribute('href'):\n",
    "            if \"Tim+Horton\"in element.get_attribute('href'):\n",
    "                print(element.get_attribute('href'))\n",
    "    time.sleep(5)\n",
    "    Nextpage=browser.find_element(By.XPATH,\"//button[@aria-label=' Next page ']\")\n",
    "    Nextpage.click()\n",
    "    time.sleep(5)\n"
   ]
  },
  {
   "cell_type": "code",
   "execution_count": 1,
   "metadata": {},
   "outputs": [
    {
     "name": "stdout",
     "output_type": "stream",
     "text": [
      "https://www.google.ca/maps/search/tim+hortons/@43.655602,-79.4242405,10z\n"
     ]
    },
    {
     "ename": "StaleElementReferenceException",
     "evalue": "Message: The element reference of <a class=\"a4gq8e-aVTXAb-haAclf-jRmmHf-hSRGPd\" href=\"https://www.google.ca/maps/place/Tim+Hortons/data=!4m5!3m4!1s0x89d51d41636c962d:0x204433c339c08ea8!8m2!3d43.868186!4d-78.8578656?authuser=0&hl=en&rclk=1\"> is stale; either the element is no longer attached to the DOM, it is not in the current frame context, or the document has been refreshed\nStacktrace:\nWebDriverError@chrome://remote/content/shared/webdriver/Errors.jsm:181:5\nStaleElementReferenceError@chrome://remote/content/shared/webdriver/Errors.jsm:442:5\nelement.resolveElement@chrome://remote/content/marionette/element.js:686:11\nevaluate.fromJSON@chrome://remote/content/marionette/evaluate.js:253:26\nevaluate.fromJSON/<@chrome://remote/content/marionette/evaluate.js:244:38\nevaluate.fromJSON@chrome://remote/content/marionette/evaluate.js:244:20\nevaluate.fromJSON@chrome://remote/content/marionette/evaluate.js:261:29\nreceiveMessage@chrome://remote/content/marionette/actors/MarionetteCommandsChild.jsm:79:29\n",
     "output_type": "error",
     "traceback": [
      "\u001b[1;31m---------------------------------------------------------------------------\u001b[0m",
      "\u001b[1;31mStaleElementReferenceException\u001b[0m            Traceback (most recent call last)",
      "\u001b[1;32m<ipython-input-1-ce933f60d10d>\u001b[0m in \u001b[0;36m<module>\u001b[1;34m\u001b[0m\n\u001b[0;32m     29\u001b[0m         \u001b[0manchor_tag\u001b[0m \u001b[1;33m=\u001b[0m \u001b[0mbrowser\u001b[0m\u001b[1;33m.\u001b[0m\u001b[0mfind_elements\u001b[0m\u001b[1;33m(\u001b[0m\u001b[0mBy\u001b[0m\u001b[1;33m.\u001b[0m\u001b[0mTAG_NAME\u001b[0m \u001b[1;33m,\u001b[0m \u001b[1;34m\"a\"\u001b[0m\u001b[1;33m)\u001b[0m\u001b[1;33m\u001b[0m\u001b[1;33m\u001b[0m\u001b[0m\n\u001b[0;32m     30\u001b[0m         \u001b[1;32mfor\u001b[0m \u001b[0melement\u001b[0m \u001b[1;32min\u001b[0m  \u001b[0manchor_tag\u001b[0m\u001b[1;33m:\u001b[0m\u001b[1;33m\u001b[0m\u001b[1;33m\u001b[0m\u001b[0m\n\u001b[1;32m---> 31\u001b[1;33m             \u001b[1;32mif\u001b[0m \u001b[0melement\u001b[0m\u001b[1;33m.\u001b[0m\u001b[0mget_attribute\u001b[0m\u001b[1;33m(\u001b[0m\u001b[1;34m'href'\u001b[0m\u001b[1;33m)\u001b[0m\u001b[1;33m:\u001b[0m\u001b[1;33m\u001b[0m\u001b[1;33m\u001b[0m\u001b[0m\n\u001b[0m\u001b[0;32m     32\u001b[0m                 \u001b[1;32mif\u001b[0m \u001b[1;34m\"Tim+Horton\"\u001b[0m\u001b[1;32min\u001b[0m \u001b[0melement\u001b[0m\u001b[1;33m.\u001b[0m\u001b[0mget_attribute\u001b[0m\u001b[1;33m(\u001b[0m\u001b[1;34m'href'\u001b[0m\u001b[1;33m)\u001b[0m\u001b[1;33m:\u001b[0m\u001b[1;33m\u001b[0m\u001b[1;33m\u001b[0m\u001b[0m\n\u001b[0;32m     33\u001b[0m                     \u001b[0mbar\u001b[0m\u001b[1;33m=\u001b[0m \u001b[0melement\u001b[0m\u001b[1;33m\u001b[0m\u001b[1;33m\u001b[0m\u001b[0m\n",
      "\u001b[1;32mC:\\py\\lib\\site-packages\\selenium\\webdriver\\remote\\webelement.py\u001b[0m in \u001b[0;36mget_attribute\u001b[1;34m(self, name)\u001b[0m\n\u001b[0;32m    152\u001b[0m         \"\"\"\n\u001b[0;32m    153\u001b[0m \u001b[1;33m\u001b[0m\u001b[0m\n\u001b[1;32m--> 154\u001b[1;33m         attribute_value = self.parent.execute_script(\n\u001b[0m\u001b[0;32m    155\u001b[0m             \u001b[1;34m\"return (%s).apply(null, arguments);\"\u001b[0m \u001b[1;33m%\u001b[0m \u001b[0mgetAttribute_js\u001b[0m\u001b[1;33m,\u001b[0m\u001b[1;33m\u001b[0m\u001b[1;33m\u001b[0m\u001b[0m\n\u001b[0;32m    156\u001b[0m             self, name)\n",
      "\u001b[1;32mC:\\py\\lib\\site-packages\\selenium\\webdriver\\remote\\webdriver.py\u001b[0m in \u001b[0;36mexecute_script\u001b[1;34m(self, script, *args)\u001b[0m\n\u001b[0;32m    870\u001b[0m         \u001b[0mcommand\u001b[0m \u001b[1;33m=\u001b[0m \u001b[0mCommand\u001b[0m\u001b[1;33m.\u001b[0m\u001b[0mW3C_EXECUTE_SCRIPT\u001b[0m\u001b[1;33m\u001b[0m\u001b[1;33m\u001b[0m\u001b[0m\n\u001b[0;32m    871\u001b[0m \u001b[1;33m\u001b[0m\u001b[0m\n\u001b[1;32m--> 872\u001b[1;33m         return self.execute(command, {\n\u001b[0m\u001b[0;32m    873\u001b[0m             \u001b[1;34m'script'\u001b[0m\u001b[1;33m:\u001b[0m \u001b[0mscript\u001b[0m\u001b[1;33m,\u001b[0m\u001b[1;33m\u001b[0m\u001b[1;33m\u001b[0m\u001b[0m\n\u001b[0;32m    874\u001b[0m             'args': converted_args})['value']\n",
      "\u001b[1;32mC:\\py\\lib\\site-packages\\selenium\\webdriver\\remote\\webdriver.py\u001b[0m in \u001b[0;36mexecute\u001b[1;34m(self, driver_command, params)\u001b[0m\n\u001b[0;32m    416\u001b[0m         \u001b[0mresponse\u001b[0m \u001b[1;33m=\u001b[0m \u001b[0mself\u001b[0m\u001b[1;33m.\u001b[0m\u001b[0mcommand_executor\u001b[0m\u001b[1;33m.\u001b[0m\u001b[0mexecute\u001b[0m\u001b[1;33m(\u001b[0m\u001b[0mdriver_command\u001b[0m\u001b[1;33m,\u001b[0m \u001b[0mparams\u001b[0m\u001b[1;33m)\u001b[0m\u001b[1;33m\u001b[0m\u001b[1;33m\u001b[0m\u001b[0m\n\u001b[0;32m    417\u001b[0m         \u001b[1;32mif\u001b[0m \u001b[0mresponse\u001b[0m\u001b[1;33m:\u001b[0m\u001b[1;33m\u001b[0m\u001b[1;33m\u001b[0m\u001b[0m\n\u001b[1;32m--> 418\u001b[1;33m             \u001b[0mself\u001b[0m\u001b[1;33m.\u001b[0m\u001b[0merror_handler\u001b[0m\u001b[1;33m.\u001b[0m\u001b[0mcheck_response\u001b[0m\u001b[1;33m(\u001b[0m\u001b[0mresponse\u001b[0m\u001b[1;33m)\u001b[0m\u001b[1;33m\u001b[0m\u001b[1;33m\u001b[0m\u001b[0m\n\u001b[0m\u001b[0;32m    419\u001b[0m             response['value'] = self._unwrap_value(\n\u001b[0;32m    420\u001b[0m                 response.get('value', None))\n",
      "\u001b[1;32mC:\\py\\lib\\site-packages\\selenium\\webdriver\\remote\\errorhandler.py\u001b[0m in \u001b[0;36mcheck_response\u001b[1;34m(self, response)\u001b[0m\n\u001b[0;32m    241\u001b[0m                 \u001b[0malert_text\u001b[0m \u001b[1;33m=\u001b[0m \u001b[0mvalue\u001b[0m\u001b[1;33m[\u001b[0m\u001b[1;34m'alert'\u001b[0m\u001b[1;33m]\u001b[0m\u001b[1;33m.\u001b[0m\u001b[0mget\u001b[0m\u001b[1;33m(\u001b[0m\u001b[1;34m'text'\u001b[0m\u001b[1;33m)\u001b[0m\u001b[1;33m\u001b[0m\u001b[1;33m\u001b[0m\u001b[0m\n\u001b[0;32m    242\u001b[0m             \u001b[1;32mraise\u001b[0m \u001b[0mexception_class\u001b[0m\u001b[1;33m(\u001b[0m\u001b[0mmessage\u001b[0m\u001b[1;33m,\u001b[0m \u001b[0mscreen\u001b[0m\u001b[1;33m,\u001b[0m \u001b[0mstacktrace\u001b[0m\u001b[1;33m,\u001b[0m \u001b[0malert_text\u001b[0m\u001b[1;33m)\u001b[0m  \u001b[1;31m# type: ignore[call-arg]  # mypy is not smart enough here\u001b[0m\u001b[1;33m\u001b[0m\u001b[1;33m\u001b[0m\u001b[0m\n\u001b[1;32m--> 243\u001b[1;33m         \u001b[1;32mraise\u001b[0m \u001b[0mexception_class\u001b[0m\u001b[1;33m(\u001b[0m\u001b[0mmessage\u001b[0m\u001b[1;33m,\u001b[0m \u001b[0mscreen\u001b[0m\u001b[1;33m,\u001b[0m \u001b[0mstacktrace\u001b[0m\u001b[1;33m)\u001b[0m\u001b[1;33m\u001b[0m\u001b[1;33m\u001b[0m\u001b[0m\n\u001b[0m\u001b[0;32m    244\u001b[0m \u001b[1;33m\u001b[0m\u001b[0m\n\u001b[0;32m    245\u001b[0m     \u001b[1;32mdef\u001b[0m \u001b[0m_value_or_default\u001b[0m\u001b[1;33m(\u001b[0m\u001b[0mself\u001b[0m\u001b[1;33m,\u001b[0m \u001b[0mobj\u001b[0m\u001b[1;33m:\u001b[0m \u001b[0mMapping\u001b[0m\u001b[1;33m[\u001b[0m\u001b[0m_KT\u001b[0m\u001b[1;33m,\u001b[0m \u001b[0m_VT\u001b[0m\u001b[1;33m]\u001b[0m\u001b[1;33m,\u001b[0m \u001b[0mkey\u001b[0m\u001b[1;33m:\u001b[0m \u001b[0m_KT\u001b[0m\u001b[1;33m,\u001b[0m \u001b[0mdefault\u001b[0m\u001b[1;33m:\u001b[0m \u001b[0m_VT\u001b[0m\u001b[1;33m)\u001b[0m \u001b[1;33m->\u001b[0m \u001b[0m_VT\u001b[0m\u001b[1;33m:\u001b[0m\u001b[1;33m\u001b[0m\u001b[1;33m\u001b[0m\u001b[0m\n",
      "\u001b[1;31mStaleElementReferenceException\u001b[0m: Message: The element reference of <a class=\"a4gq8e-aVTXAb-haAclf-jRmmHf-hSRGPd\" href=\"https://www.google.ca/maps/place/Tim+Hortons/data=!4m5!3m4!1s0x89d51d41636c962d:0x204433c339c08ea8!8m2!3d43.868186!4d-78.8578656?authuser=0&hl=en&rclk=1\"> is stale; either the element is no longer attached to the DOM, it is not in the current frame context, or the document has been refreshed\nStacktrace:\nWebDriverError@chrome://remote/content/shared/webdriver/Errors.jsm:181:5\nStaleElementReferenceError@chrome://remote/content/shared/webdriver/Errors.jsm:442:5\nelement.resolveElement@chrome://remote/content/marionette/element.js:686:11\nevaluate.fromJSON@chrome://remote/content/marionette/evaluate.js:253:26\nevaluate.fromJSON/<@chrome://remote/content/marionette/evaluate.js:244:38\nevaluate.fromJSON@chrome://remote/content/marionette/evaluate.js:244:20\nevaluate.fromJSON@chrome://remote/content/marionette/evaluate.js:261:29\nreceiveMessage@chrome://remote/content/marionette/actors/MarionetteCommandsChild.jsm:79:29\n"
     ]
    }
   ],
   "source": [
    "from selenium import webdriver\n",
    "from selenium.webdriver.common.by import By\n",
    "from selenium.webdriver.common.keys import Keys\n",
    "from selenium.webdriver import ActionChains\n",
    "import time\n",
    "\n",
    "# siAUzd-neVct section-scrollbox cYB2Ge-oHo7ed cYB2Ge-ti6hGc siAUzd-neVct-Q3DXx-BvBYQ siAUzd-neVct-YbohUe-bnBfGc\n",
    "##################################\n",
    "# url = 'https://www.google.ca/maps/search/tim+hortons/@43.9095261,-78.9553054,10z'\n",
    "url = 'https://www.google.ca/maps/search/tim+hortons/@43.9095261,-78.9553054,10z'\n",
    "# print(url[0:url.find('@')])\n",
    "# url= url[0:url.find('@')]+coordinates[0]+',10z'\n",
    "# print(url)\n",
    "coordinates=['43.655602,-79.4242405', '43.6558447,-79.3911618', '43.6558447,-79.3911618', \n",
    "             '43.666214,-79.384639', '43.659012,-79.379489', '43.648827,-79.374339',\n",
    "             '43.668325,-79.370047', '43.659136,-79.363009', '43.648786,-79.357103' ]\n",
    "\n",
    "# coordinates=['43.9430095,-78.9211383','43.655602,-79.4242405']\n",
    "##################################\n",
    "browser = webdriver.Firefox()\n",
    "browser.get('https://www.google.ca/maps/search/tim+hortons/@43.9095261,-78.9553054,10z')\n",
    "URL_List=[]\n",
    "for coordinate in coordinates:\n",
    "    \n",
    "    url= url[0:url.find('@')+1]+coordinate+',10z'\n",
    "    print(url)\n",
    "    browser.get(url)\n",
    "    for j in range(5):\n",
    "        anchor_tag = browser.find_elements(By.TAG_NAME , \"a\")\n",
    "        for element in  anchor_tag:\n",
    "            if element.get_attribute('href'):\n",
    "                if \"Tim+Horton\"in element.get_attribute('href'):\n",
    "                    bar= element\n",
    "        #     print(element.get_attribute('href'))\n",
    "        for i in range(2):\n",
    "            bar.location_once_scrolled_into_view\n",
    "\n",
    "    # time.sleep(1)\n",
    "    anchor_tag = browser.find_elements(By.TAG_NAME , \"a\")\n",
    "    for element in  anchor_tag:\n",
    "        if element.get_attribute('href'):\n",
    "            if \"Tim+Horton\"in element.get_attribute('href'):\n",
    "                URL_List.append(element.get_attribute('href'))\n",
    "                print(element.get_attribute('href'))\n",
    "    time.sleep(5)\n",
    "df = pd.DataFrame(URL_List, columns =[\"URL\"]) \n",
    "print(df) \n",
    "df.to_csv('TimhortonsURL.csv', index=False)\n",
    "#     browser.get(browser.current_url)\n",
    "    \n",
    "#     window_before = browser.windowsleep(2)_handles[0]\n",
    "# #     window_after = browser.window_handles[1]\n",
    "#     browser.switch_to.window(window_before)\n",
    "#     time.sleep(5)\n",
    "    \n",
    "# time.sleep(2)\n",
    "# element=Nextpage=browser.find_element(By.XPATH,\"//div[@class='siAUzd-neVct section-scrollbox cYB2Ge-oHo7ed cYB2Ge-ti6hGc siAUzd-neVct-Q3DXx-BvBYQ siAUzd-neVct-YbohUe-bnBfGc']\")\n",
    "# # element = browser.find_element(By.CLASS_NAME , \"siAUzd-neVct section-scrollbox cYB2Ge-oHo7ed cYB2Ge-ti6hGc siAUzd-neVct-Q3DXx-BvBYQ siAUzd-neVct-YbohUe-bnBfGc\")\n",
    "# element.location_once_scrolled_into_view"
   ]
  },
  {
   "cell_type": "code",
   "execution_count": 42,
   "metadata": {},
   "outputs": [
    {
     "name": "stdout",
     "output_type": "stream",
     "text": [
      "https://www.google.ca/maps/search/tim+hortons/\n",
      "https://www.google.ca/maps/search/tim+hortons/@43.9430095,-78.9211383,10z\n",
      "https://www.google.ca/maps/search/tim+hortons/@43.655602,-79.4242405,10z\n",
      "https://www.google.ca/maps/search/tim+hortons/@43.6558447,-79.3911618,10z\n",
      "https://www.google.ca/maps/search/tim+hortons/@43.6558447,-79.3911618,10z\n",
      "https://www.google.ca/maps/search/tim+hortons/@43.666214,-79.384639,10z\n",
      "https://www.google.ca/maps/search/tim+hortons/@43.659012,-79.379489,10z\n",
      "https://www.google.ca/maps/search/tim+hortons/@43.648827,-79.374339,10z\n",
      "https://www.google.ca/maps/search/tim+hortons/@43.668325,-79.370047,10z\n",
      "https://www.google.ca/maps/search/tim+hortons/@43.659136,-79.363009,10z\n",
      "https://www.google.ca/maps/search/tim+hortons/@43.648786,-79.357103,10z\n"
     ]
    }
   ],
   "source": [
    "url = 'https://www.google.ca/maps/search/tim+hortons/@43.9095261,-78.9553054,10z'\n",
    "print(url[0:url.find('@')])\n",
    "url= url[0:url.find('@')+1]+coordinates[0]+',10z'\n",
    "print(url)\n",
    "coordinates=['43.655602,-79.4242405', '43.6558447,-79.3911618', '43.6558447,-79.3911618', \n",
    "             '43.666214,-79.384639', '43.659012,-79.379489', '43.648827,-79.374339',\n",
    "             '43.668325,-79.370047', '43.659136,-79.363009', '43.648786,-79.357103' ]\n",
    "for x in coordinates:\n",
    "    url= url[0:url.find('@')+1]+x+',10z'\n",
    "    print(url)"
   ]
  },
  {
   "cell_type": "code",
   "execution_count": 21,
   "metadata": {},
   "outputs": [
    {
     "name": "stdout",
     "output_type": "stream",
     "text": [
      "      URL\n",
      "0     fav\n",
      "1   tutor\n",
      "2  coding\n",
      "3  skills\n",
      "4     AAA\n"
     ]
    }
   ],
   "source": [
    "import pandas as pd \n",
    "# list of strings \n",
    "lst=[]\n",
    "lst = ['fav', 'tutor', 'coding', 'skills']\n",
    "# Calling DataFrame constructor on list \n",
    "lst.append('AAA')\n",
    "df = pd.DataFrame(lst, columns =[\"URL\"]) \n",
    "print(df) \n",
    "df.to_csv('TimhortonsURL.csv', index=False)"
   ]
  },
  {
   "cell_type": "code",
   "execution_count": 5,
   "metadata": {
    "scrolled": true
   },
   "outputs": [
    {
     "ename": "WebDriverException",
     "evalue": "Message: Failed to decode response from marionette\n",
     "output_type": "error",
     "traceback": [
      "\u001b[1;31m---------------------------------------------------------------------------\u001b[0m",
      "\u001b[1;31mWebDriverException\u001b[0m                        Traceback (most recent call last)",
      "\u001b[1;32m<ipython-input-5-94461f76b89a>\u001b[0m in \u001b[0;36m<module>\u001b[1;34m\u001b[0m\n\u001b[0;32m      9\u001b[0m \u001b[1;32mfor\u001b[0m \u001b[0mk\u001b[0m \u001b[1;32min\u001b[0m \u001b[0mrange\u001b[0m\u001b[1;33m(\u001b[0m\u001b[1;36m5\u001b[0m\u001b[1;33m)\u001b[0m\u001b[1;33m:\u001b[0m\u001b[1;33m\u001b[0m\u001b[1;33m\u001b[0m\u001b[0m\n\u001b[0;32m     10\u001b[0m     \u001b[1;32mfor\u001b[0m \u001b[0mj\u001b[0m \u001b[1;32min\u001b[0m \u001b[0mrange\u001b[0m\u001b[1;33m(\u001b[0m\u001b[1;36m4\u001b[0m\u001b[1;33m)\u001b[0m\u001b[1;33m:\u001b[0m\u001b[1;33m\u001b[0m\u001b[1;33m\u001b[0m\u001b[0m\n\u001b[1;32m---> 11\u001b[1;33m         \u001b[0manchor_tag\u001b[0m \u001b[1;33m=\u001b[0m \u001b[0mbrowser\u001b[0m\u001b[1;33m.\u001b[0m\u001b[0mfind_elements\u001b[0m\u001b[1;33m(\u001b[0m\u001b[0mBy\u001b[0m\u001b[1;33m.\u001b[0m\u001b[0mTAG_NAME\u001b[0m \u001b[1;33m,\u001b[0m \u001b[1;34m\"a\"\u001b[0m\u001b[1;33m)\u001b[0m\u001b[1;33m\u001b[0m\u001b[1;33m\u001b[0m\u001b[0m\n\u001b[0m\u001b[0;32m     12\u001b[0m         \u001b[1;32mfor\u001b[0m \u001b[0melement\u001b[0m \u001b[1;32min\u001b[0m  \u001b[0manchor_tag\u001b[0m\u001b[1;33m:\u001b[0m\u001b[1;33m\u001b[0m\u001b[1;33m\u001b[0m\u001b[0m\n\u001b[0;32m     13\u001b[0m             \u001b[1;32mif\u001b[0m \u001b[0melement\u001b[0m\u001b[1;33m.\u001b[0m\u001b[0mget_attribute\u001b[0m\u001b[1;33m(\u001b[0m\u001b[1;34m'href'\u001b[0m\u001b[1;33m)\u001b[0m\u001b[1;33m:\u001b[0m\u001b[1;33m\u001b[0m\u001b[1;33m\u001b[0m\u001b[0m\n",
      "\u001b[1;32mC:\\py\\lib\\site-packages\\selenium\\webdriver\\remote\\webdriver.py\u001b[0m in \u001b[0;36mfind_elements\u001b[1;34m(self, by, value)\u001b[0m\n\u001b[0;32m   1271\u001b[0m         \u001b[1;31m# Return empty list if driver returns null\u001b[0m\u001b[1;33m\u001b[0m\u001b[1;33m\u001b[0m\u001b[1;33m\u001b[0m\u001b[0m\n\u001b[0;32m   1272\u001b[0m         \u001b[1;31m# See https://github.com/SeleniumHQ/selenium/issues/4555\u001b[0m\u001b[1;33m\u001b[0m\u001b[1;33m\u001b[0m\u001b[1;33m\u001b[0m\u001b[0m\n\u001b[1;32m-> 1273\u001b[1;33m         return self.execute(Command.FIND_ELEMENTS, {\n\u001b[0m\u001b[0;32m   1274\u001b[0m             \u001b[1;34m'using'\u001b[0m\u001b[1;33m:\u001b[0m \u001b[0mby\u001b[0m\u001b[1;33m,\u001b[0m\u001b[1;33m\u001b[0m\u001b[1;33m\u001b[0m\u001b[0m\n\u001b[0;32m   1275\u001b[0m             'value': value})['value'] or []\n",
      "\u001b[1;32mC:\\py\\lib\\site-packages\\selenium\\webdriver\\remote\\webdriver.py\u001b[0m in \u001b[0;36mexecute\u001b[1;34m(self, driver_command, params)\u001b[0m\n\u001b[0;32m    416\u001b[0m         \u001b[0mresponse\u001b[0m \u001b[1;33m=\u001b[0m \u001b[0mself\u001b[0m\u001b[1;33m.\u001b[0m\u001b[0mcommand_executor\u001b[0m\u001b[1;33m.\u001b[0m\u001b[0mexecute\u001b[0m\u001b[1;33m(\u001b[0m\u001b[0mdriver_command\u001b[0m\u001b[1;33m,\u001b[0m \u001b[0mparams\u001b[0m\u001b[1;33m)\u001b[0m\u001b[1;33m\u001b[0m\u001b[1;33m\u001b[0m\u001b[0m\n\u001b[0;32m    417\u001b[0m         \u001b[1;32mif\u001b[0m \u001b[0mresponse\u001b[0m\u001b[1;33m:\u001b[0m\u001b[1;33m\u001b[0m\u001b[1;33m\u001b[0m\u001b[0m\n\u001b[1;32m--> 418\u001b[1;33m             \u001b[0mself\u001b[0m\u001b[1;33m.\u001b[0m\u001b[0merror_handler\u001b[0m\u001b[1;33m.\u001b[0m\u001b[0mcheck_response\u001b[0m\u001b[1;33m(\u001b[0m\u001b[0mresponse\u001b[0m\u001b[1;33m)\u001b[0m\u001b[1;33m\u001b[0m\u001b[1;33m\u001b[0m\u001b[0m\n\u001b[0m\u001b[0;32m    419\u001b[0m             response['value'] = self._unwrap_value(\n\u001b[0;32m    420\u001b[0m                 response.get('value', None))\n",
      "\u001b[1;32mC:\\py\\lib\\site-packages\\selenium\\webdriver\\remote\\errorhandler.py\u001b[0m in \u001b[0;36mcheck_response\u001b[1;34m(self, response)\u001b[0m\n\u001b[0;32m    241\u001b[0m                 \u001b[0malert_text\u001b[0m \u001b[1;33m=\u001b[0m \u001b[0mvalue\u001b[0m\u001b[1;33m[\u001b[0m\u001b[1;34m'alert'\u001b[0m\u001b[1;33m]\u001b[0m\u001b[1;33m.\u001b[0m\u001b[0mget\u001b[0m\u001b[1;33m(\u001b[0m\u001b[1;34m'text'\u001b[0m\u001b[1;33m)\u001b[0m\u001b[1;33m\u001b[0m\u001b[1;33m\u001b[0m\u001b[0m\n\u001b[0;32m    242\u001b[0m             \u001b[1;32mraise\u001b[0m \u001b[0mexception_class\u001b[0m\u001b[1;33m(\u001b[0m\u001b[0mmessage\u001b[0m\u001b[1;33m,\u001b[0m \u001b[0mscreen\u001b[0m\u001b[1;33m,\u001b[0m \u001b[0mstacktrace\u001b[0m\u001b[1;33m,\u001b[0m \u001b[0malert_text\u001b[0m\u001b[1;33m)\u001b[0m  \u001b[1;31m# type: ignore[call-arg]  # mypy is not smart enough here\u001b[0m\u001b[1;33m\u001b[0m\u001b[1;33m\u001b[0m\u001b[0m\n\u001b[1;32m--> 243\u001b[1;33m         \u001b[1;32mraise\u001b[0m \u001b[0mexception_class\u001b[0m\u001b[1;33m(\u001b[0m\u001b[0mmessage\u001b[0m\u001b[1;33m,\u001b[0m \u001b[0mscreen\u001b[0m\u001b[1;33m,\u001b[0m \u001b[0mstacktrace\u001b[0m\u001b[1;33m)\u001b[0m\u001b[1;33m\u001b[0m\u001b[1;33m\u001b[0m\u001b[0m\n\u001b[0m\u001b[0;32m    244\u001b[0m \u001b[1;33m\u001b[0m\u001b[0m\n\u001b[0;32m    245\u001b[0m     \u001b[1;32mdef\u001b[0m \u001b[0m_value_or_default\u001b[0m\u001b[1;33m(\u001b[0m\u001b[0mself\u001b[0m\u001b[1;33m,\u001b[0m \u001b[0mobj\u001b[0m\u001b[1;33m:\u001b[0m \u001b[0mMapping\u001b[0m\u001b[1;33m[\u001b[0m\u001b[0m_KT\u001b[0m\u001b[1;33m,\u001b[0m \u001b[0m_VT\u001b[0m\u001b[1;33m]\u001b[0m\u001b[1;33m,\u001b[0m \u001b[0mkey\u001b[0m\u001b[1;33m:\u001b[0m \u001b[0m_KT\u001b[0m\u001b[1;33m,\u001b[0m \u001b[0mdefault\u001b[0m\u001b[1;33m:\u001b[0m \u001b[0m_VT\u001b[0m\u001b[1;33m)\u001b[0m \u001b[1;33m->\u001b[0m \u001b[0m_VT\u001b[0m\u001b[1;33m:\u001b[0m\u001b[1;33m\u001b[0m\u001b[1;33m\u001b[0m\u001b[0m\n",
      "\u001b[1;31mWebDriverException\u001b[0m: Message: Failed to decode response from marionette\n"
     ]
    }
   ],
   "source": [
    "# from selenium.webdriver.common.by import By\n",
    "# schroll dawnsection\n",
    "from selenium import webdriver\n",
    "from selenium.webdriver.common.by import By\n",
    "from selenium.webdriver.common.keys import Keys\n",
    "from selenium.webdriver import ActionChains\n",
    "import time\n",
    "\n",
    "coordinates=['43.655602,-79.4242405','43.6504729,-79.3896168', '43.6558447,-79.3911618', '43.6558447,-79.3911618,13' ]\n",
    "\n",
    "coordinates=['43.655602,-79.4242405', '43.6558447,-79.3911618', '43.6558447,-79.3911618', \n",
    "             '43.666214, -79.384639', '43.659012, -79.379489', '43.648827, -79.374339',\n",
    "             '43.668325, -79.370047', '43.659136, -79.363009', '43.648786, -79.357103' ]\n",
    "for k in range(5):\n",
    "    for j in range(4):\n",
    "        anchor_tag = browser.find_elements(By.TAG_NAME , \"a\")\n",
    "        for element in  anchor_tag:\n",
    "            if element.get_attribute('href'):\n",
    "                if \"Tim+Horton\"in element.get_attribute('href'):\n",
    "                    bar= element\n",
    "        #     print(element.get_attribute('href'))\n",
    "        for i in range(2):\n",
    "            bar.location_once_scrolled_into_view\n",
    "\n",
    "    # time.sleep(1)\n",
    "    anchor_tag = browser.find_elements(By.TAG_NAME , \"a\")\n",
    "    for element in  anchor_tag:\n",
    "        print(element.get_attribute('href'))\n",
    "\n",
    "    Nextpage=browser.find_element(By.XPATH,\"//button[@aria-label=' Next page ']\")\n",
    "    Nextpage.click()\n",
    "    time.sleep(2)\n",
    "    window_after = browser.window_handles[0]\n",
    "    browser.switch_to.window(window_after)\n",
    "    time.sleep(5)\n",
    "    "
   ]
  },
  {
   "cell_type": "code",
   "execution_count": null,
   "metadata": {},
   "outputs": [],
   "source": []
  },
  {
   "cell_type": "code",
   "execution_count": 32,
   "metadata": {},
   "outputs": [],
   "source": [
    "# from selenium import webdriver\n",
    "\n",
    "# browser = webdriver.Firefox()\n",
    "# from selenium.webdriver.common.by import By\n",
    "browser.get('https://www.google.ca/maps/place/Tim+Hortons/data=!4m5!3m4!1s0x89d51e6c109c7bb9:0xe862cf9d09617ef7!8m2!3d43.8861392!4d-78.945305?authuser=0&hl=en&rclk=1')\n",
    "# browser.find_element_by_xpath('//input[@node-type=\"searchInput\"]')\n",
    "browser.execute_script(\"window.scrollTo(0, 20)\") \n",
    "# anchor_tag=browser.find_elements(By.CLASS_NAME , 'O9Q0Ff-NmME3c-Utye1-ZMv3u O9Q0Ff-NmME3c-Utye1-ZMv3u-SfQLQb-V67aGc')\n",
    "div_tag =browser.find_elements(By.TAG_NAME , \"div\")\n",
    "# # print(anchor_tag)\n",
    "for div in  div_tag:\n",
    "    if div.get_attribute('aria-label'):\n",
    "        if \"Currently\" in div.get_attribute('aria-label'):\n",
    "            print(div.get_attribute('aria-label'))\n",
    "#     if \"Currently\" in element.get_attribute('aria-label'):\n",
    "        \n",
    "#     except NoSuchElementException:\n",
    "        "
   ]
  },
  {
   "cell_type": "code",
   "execution_count": 33,
   "metadata": {},
   "outputs": [
    {
     "name": "stdout",
     "output_type": "stream",
     "text": [
      "Address: 516 Brock St N, Whitby, ON L1N 4J2 \n"
     ]
    }
   ],
   "source": [
    "browser.get('https://www.google.ca/maps/place/Tim+Hortons/data=!4m5!3m4!1s0x89d51e6c109c7bb9:0xe862cf9d09617ef7!8m2!3d43.8861392!4d-78.945305?authuser=0&hl=en&rclk=1')\n",
    "# browser.find_element_by_xpath('//input[@node-type=\"searchInput\"]')\n",
    "browser.execute_script(\"window.scrollTo(0, 20)\") \n",
    "# anchor_tag=browser.find_elements(By.CLASS_NAME , 'O9Q0Ff-NmME3c-Utye1-ZMv3u O9Q0Ff-NmME3c-Utye1-ZMv3u-SfQLQb-V67aGc')\n",
    "data_item_id=browser.find_elements(By.XPATH,\"//button[@data-item-id='address']\")\n",
    "div_tag =browser.find_elements(By.TAG_NAME , \"div\")\n",
    "# # print(anchor_tag)\n",
    "# for div in  div_tag:\n",
    "#     if div.get_attribute('aria-label'):\n",
    "# #         if \"Currently\" in div.get_attribute('aria-label'):\n",
    "#             print(div.get_attribute('aria-label'))\n",
    "# #     if \"Currently\" in element.get_attribute('aria-label'):\n",
    "\n",
    "for div in  data_item_id:\n",
    "    if div.get_attribute('aria-label'):\n",
    "#         if \"Currently\" in div.get_attribute('aria-label'):\n",
    "            print(div.get_attribute('aria-label'))\n",
    "#     if \"Currently\" in element.get_attribute('aria-label'):"
   ]
  },
  {
   "cell_type": "code",
   "execution_count": 31,
   "metadata": {},
   "outputs": [
    {
     "name": "stdout",
     "output_type": "stream",
     "text": [
      "Enter a location\n",
      "ChIJjcVLBGwe1YkRIneayfZZe08\n",
      "[<selenium.webdriver.remote.webelement.WebElement (session=\"0cae4f2a-037f-4b30-98bd-026f47f2dbbb\", element=\"43a7e69a-1f6d-4406-b44b-ecc8e3fb7e14\")>]\n",
      "ChIJjcVLBGwe1YkRIneayfZZe08\n"
     ]
    }
   ],
   "source": [
    "from selenium.webdriver.common.keys import Keys\n",
    "from selenium.webdriver import ActionChains\n",
    "\n",
    "import time\n",
    "browser.get('https://googlemaps.github.io/js-samples/dist/samples/places-placeid-finder/index.html')\n",
    "# id=\"pac-input\"\n",
    "input_text= browser.find_element(By.XPATH,\"//input[@id='pac-input']\")\n",
    "# for i in input_text:\n",
    "print(input_text.get_attribute('placeholder'))\n",
    "time.sleep(5)\n",
    "input_text.click()\n",
    "# input_text.send_keys(Keys.ENTER)\n",
    "input_text.send_keys(\"516 Brock St N, Whitby, ON L1N 4J2, Canada\")\n",
    "time.sleep(2)\n",
    "input_text.send_keys(Keys.ARROW_DOWN)\n",
    "input_text.send_keys(Keys.ENTER)\n",
    "# input_text.submit()\n",
    "time.sleep(2)\n",
    "by_ID=browser.find_elements(By.XPATH, \"//span[@id='place-id']\")\n",
    "for i in by_ID:\n",
    "    print(i.text)\n",
    "print(by_ID)\n",
    "print(browser.find_element(By.XPATH, \"//span[@id='place-id']\").text)"
   ]
  },
  {
   "cell_type": "code",
   "execution_count": 35,
   "metadata": {},
   "outputs": [
    {
     "name": "stdout",
     "output_type": "stream",
     "text": [
      "\n"
     ]
    }
   ],
   "source": [
    "browser.get('https://googlemaps.github.io/js-samples/dist/samples/places-placeid-finder/index.html')\n",
    "by_ID=browser.find_element(By.ID, 'place-id').text\n",
    "\n",
    "print(by_ID)    "
   ]
  },
  {
   "cell_type": "code",
   "execution_count": null,
   "metadata": {},
   "outputs": [],
   "source": []
  }
 ],
 "metadata": {
  "kernelspec": {
   "display_name": "Python 3",
   "language": "python",
   "name": "python3"
  },
  "language_info": {
   "codemirror_mode": {
    "name": "ipython",
    "version": 3
   },
   "file_extension": ".py",
   "mimetype": "text/x-python",
   "name": "python",
   "nbconvert_exporter": "python",
   "pygments_lexer": "ipython3",
   "version": "3.8.3"
  }
 },
 "nbformat": 4,
 "nbformat_minor": 4
}
