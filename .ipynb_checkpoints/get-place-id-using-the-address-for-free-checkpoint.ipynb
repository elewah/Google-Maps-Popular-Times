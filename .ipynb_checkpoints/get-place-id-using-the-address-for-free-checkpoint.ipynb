{
 "cells": [
  {
   "cell_type": "code",
   "execution_count": 1,
   "metadata": {},
   "outputs": [
    {
     "name": "stdout",
     "output_type": "stream",
     "text": [
      "Enter a location\n",
      "ChIJjcVLBGwe1YkRIneayfZZe08\n",
      "[<selenium.webdriver.remote.webelement.WebElement (session=\"4d66dc69-1f2b-47ce-b7e6-ede2b106b0a1\", element=\"ed700078-9b69-4d4b-9bf8-8ef0fa118764\")>]\n",
      "ChIJjcVLBGwe1YkRIneayfZZe08\n"
     ]
    }
   ],
   "source": [
    "from selenium import webdriver\n",
    "from selenium.webdriver.common.by import By\n",
    "from selenium.webdriver.common.keys import Keys\n",
    "from selenium.webdriver import ActionChains\n",
    "import time\n",
    "browser = webdriver.Firefox()\n",
    "browser.get('https://googlemaps.github.io/js-samples/dist/samples/places-placeid-finder/index.html')\n",
    "# id=\"pac-input\"\n",
    "input_text= browser.find_element(By.XPATH,\"//input[@id='pac-input']\")\n",
    "# for i in input_text:\n",
    "print(input_text.get_attribute('placeholder'))\n",
    "time.sleep(5)\n",
    "input_text.click()\n",
    "# input_text.send_keys(Keys.ENTER)\n",
    "input_text.send_keys(\"516 Brock St N, Whitby, ON L1N 4J2, Canada\")\n",
    "time.sleep(2)\n",
    "input_text.send_keys(Keys.ARROW_DOWN)\n",
    "input_text.send_keys(Keys.ENTER)\n",
    "# input_text.submit()\n",
    "time.sleep(2)\n",
    "by_ID=browser.find_elements(By.XPATH, \"//span[@id='place-id']\")\n",
    "for i in by_ID:\n",
    "    print(i.text)\n",
    "print(by_ID)\n",
    "print(browser.find_element(By.XPATH, \"//span[@id='place-id']\").text)"
   ]
  }
 ],
 "metadata": {
  "kernelspec": {
   "display_name": "Python 3",
   "language": "python",
   "name": "python3"
  },
  "language_info": {
   "codemirror_mode": {
    "name": "ipython",
    "version": 3
   },
   "file_extension": ".py",
   "mimetype": "text/x-python",
   "name": "python",
   "nbconvert_exporter": "python",
   "pygments_lexer": "ipython3",
   "version": "3.8.3"
  }
 },
 "nbformat": 4,
 "nbformat_minor": 4
}
