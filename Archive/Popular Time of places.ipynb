{
 "cells": [
  {
   "cell_type": "code",
   "execution_count": 1,
   "metadata": {},
   "outputs": [],
   "source": [
    "from selenium import webdriver\n",
    "from selenium.webdriver.common.by import By\n",
    "browser = webdriver.Firefox()\n",
    "browser.get('https://www.google.ca/maps/search/tim+hortons+downTown+toronto/@43.6495846,-79.4224086,11.56z')\n",
    "import time\n",
    "time.sleep(3)"
   ]
  },
  {
   "cell_type": "code",
   "execution_count": 2,
   "metadata": {},
   "outputs": [
    {
     "name": "stdout",
     "output_type": "stream",
     "text": [
      "javascript:void(0)\n",
      "https://www.google.ca/maps/place/Tim+Hortons/data=!4m7!3m6!1s0x882b34d30f14f071:0xaa18129910344868!8m2!3d43.6461046!4d-79.3825715!16s%2Fg%2F1tgnxvrt!19sChIJcfAUD9M0K4gRaEg0EJkSGKo?authuser=0&hl=en&rclk=1\n",
      "https://locations.timhortons.ca/on/toronto/55-york-st\n",
      "None\n",
      "https://www.google.ca/maps/place/Tim+Hortons/data=!4m7!3m6!1s0x89d4cb336a9fbb8b:0xffc24241df952656!8m2!3d43.652902!4d-79.378389!16s%2Fg%2F11xg9cdcq!19sChIJi7ufajPL1IkRViaV30FCwv8?authuser=0&hl=en&rclk=1\n",
      "https://locations.timhortons.ca/on/toronto/2-queen-st-east\n",
      "None\n",
      "https://www.google.ca/maps/place/Tim+Hortons/data=!4m7!3m6!1s0x89d4cb7db0a038a7:0x55dddd04dbdef915!8m2!3d43.6566873!4d-79.3800187!16s%2Fg%2F1tfqgsqx!19sChIJpzigsH3L1IkRFfne2wTd3VU?authuser=0&hl=en&rclk=1\n",
      "https://locations.timhortons.ca/on/toronto/26-dundas-st\n",
      "None\n",
      "https://www.google.ca/maps/place/Tim+Hortons/data=!4m7!3m6!1s0x882b34ce1e4f935d:0x5eb8022d6a2206fd!8m2!3d43.6497009!4d-79.3872955!16s%2Fg%2F1tqtyhv3!19sChIJXZNPHs40K4gR_QYiai0CuF4?authuser=0&hl=en&rclk=1\n",
      "https://locations.timhortons.ca/on/toronto/148-simcoe-st\n",
      "None\n",
      "https://www.google.ca/maps/place/Tim+Hortons/data=!4m7!3m6!1s0x882b34c867a250a7:0x4a292afcf377aa79!8m2!3d43.6545071!4d-79.3889424!16s%2Fg%2F1hc3s0g5s!19sChIJp1CiZ8g0K4gReap38_wqKUo?authuser=0&hl=en&rclk=1\n",
      "https://locations.timhortons.ca/on/toronto/438-university-ave\n",
      "None\n",
      "https://www.google.ca/maps/place/Tim+Hortons/data=!4m7!3m6!1s0x882b34d294a5583b:0xe938c4a3b3160037!8m2!3d43.649227!4d-79.382103!16s%2Fg%2F1tdqp8nx!19sChIJO1illNI0K4gRNwAWs6PEOOk?authuser=0&hl=en&rclk=1\n",
      "https://locations.timhortons.ca/on/toronto/100-king-st-west\n",
      "None\n",
      "https://www.google.ca/maps/place/Tim+Hortons/data=!4m7!3m6!1s0x882b34cade23d8bf:0xde38b7e35a2ae749!8m2!3d43.6564401!4d-79.3813735!16s%2Fg%2F11b6dmwgmy!19sChIJv9gj3so0K4gRSecqWuO3ON4?authuser=0&hl=en&rclk=1\n",
      "http://www.timhortons.com/ca/locator/storedirections.html?id=103297&utm_source=Google&utm_medium=Local&utm_term=ON&utm_content=Toronto&utm_campaign=Local_Search\n",
      "None\n",
      "https://www.google.ca/maps/place/Tim+Hortons/data=!4m7!3m6!1s0x882b34cacd7aecf1:0xdb3756b8ee6eb68c!8m2!3d43.6566874!4d-79.3807965!16s%2Fg%2F11b8vb0vp7!19sChIJ8ex6zco0K4gRjLZu7rhWN9s?authuser=0&hl=en&rclk=1\n",
      "https://locations.timhortons.ca/on/toronto/10-dundas-st-e-suite-104\n",
      "None\n",
      "https://www.google.ca/maps/place/Tim+Hortons/data=!4m7!3m6!1s0x882b34c47eb07583:0xe36536c0b326b8e2!8m2!3d43.6529623!4d-79.3970811!16s%2Fg%2F1trch17k!19sChIJg3WwfsQ0K4gR4rgms8A2ZeM?authuser=0&hl=en&rclk=1\n",
      "https://locations.timhortons.ca/on/toronto/477-dundas-st-west\n",
      "None\n",
      "https://www.google.ca/maps/place/Tim+Hortons/data=!4m7!3m6!1s0x882b34d00f27ff53:0x89cc4bf7db09db96!8m2!3d43.6492565!4d-79.3911512!16s%2Fg%2F11cmffvn6v!19sChIJU_8nD9A0K4gRltsJ2_dLzIk?authuser=0&hl=en&rclk=1\n",
      "https://locations.timhortons.ca/on/toronto/150-john-st\n",
      "None\n"
     ]
    }
   ],
   "source": [
    "# from selenium.webdriver.common.by import By\n",
    "anchor_tag = browser.find_elements(By.TAG_NAME , \"a\")\n",
    "# print(anchor_tag.get_attribute('href'))\n",
    "for element in  anchor_tag:\n",
    "    print(element.get_attribute('href'))"
   ]
  },
  {
   "cell_type": "code",
   "execution_count": 32,
   "metadata": {},
   "outputs": [],
   "source": [
    "# from selenium import webdriver\n",
    "\n",
    "# browser = webdriver.Firefox()\n",
    "# from selenium.webdriver.common.by import By\n",
    "browser.get('https://www.google.ca/maps/place/Tim+Hortons/data=!4m5!3m4!1s0x89d51e6c109c7bb9:0xe862cf9d09617ef7!8m2!3d43.8861392!4d-78.945305?authuser=0&hl=en&rclk=1')\n",
    "# browser.find_element_by_xpath('//input[@node-type=\"searchInput\"]')\n",
    "browser.execute_script(\"window.scrollTo(0, 20)\") \n",
    "# anchor_tag=browser.find_elements(By.CLASS_NAME , 'O9Q0Ff-NmME3c-Utye1-ZMv3u O9Q0Ff-NmME3c-Utye1-ZMv3u-SfQLQb-V67aGc')\n",
    "div_tag =browser.find_elements(By.TAG_NAME , \"div\")\n",
    "# # print(anchor_tag)\n",
    "for div in  div_tag:\n",
    "    if div.get_attribute('aria-label'):\n",
    "        if \"Currently\" in div.get_attribute('aria-label'):\n",
    "            print(div.get_attribute('aria-label'))\n",
    "#     if \"Currently\" in element.get_attribute('aria-label'):\n",
    "        \n",
    "#     except NoSuchElementException:\n",
    "        "
   ]
  },
  {
   "cell_type": "code",
   "execution_count": 2,
   "metadata": {},
   "outputs": [
    {
     "name": "stdout",
     "output_type": "stream",
     "text": [
      "Address: 516 Brock St N, Whitby, ON L1N 4J2 \n"
     ]
    }
   ],
   "source": [
    "browser.get('https://www.google.ca/maps/place/Tim+Hortons/data=!4m5!3m4!1s0x89d51e6c109c7bb9:0xe862cf9d09617ef7!8m2!3d43.8861392!4d-78.945305?authuser=0&hl=en&rclk=1')\n",
    "# browser.find_element_by_xpath('//input[@node-type=\"searchInput\"]')\n",
    "browser.execute_script(\"window.scrollTo(0, 20)\") \n",
    "# anchor_tag=browser.find_elements(By.CLASS_NAME , 'O9Q0Ff-NmME3c-Utye1-ZMv3u O9Q0Ff-NmME3c-Utye1-ZMv3u-SfQLQb-V67aGc')\n",
    "data_item_id=browser.find_elements(By.XPATH,\"//button[@data-item-id='address']\")\n",
    "# div_tag =browser.find_elements(By.TAG_NAME , \"div\")\n",
    "# # print(anchor_tag)\n",
    "# for div in  div_tag:\n",
    "#     if div.get_attribute('aria-label'):\n",
    "# #         if \"Currently\" in div.get_attribute('aria-label'):\n",
    "#             print(div.get_attribute('aria-label'))\n",
    "# #     if \"Currently\" in element.get_attribute('aria-label'):\n",
    "\n",
    "for div in  data_item_id:\n",
    "    if div.get_attribute('aria-label'):\n",
    "#         if \"Currently\" in div.get_attribute('aria-label'):\n",
    "            print(div.get_attribute('aria-label'))\n",
    "#     if \"Currently\" in element.get_attribute('aria-label'):"
   ]
  },
  {
   "cell_type": "code",
   "execution_count": 6,
   "metadata": {},
   "outputs": [
    {
     "name": "stdout",
     "output_type": "stream",
     "text": [
      "516 Brock St N, Whitby, ON L1N 4J2\n"
     ]
    }
   ],
   "source": [
    "string=\"Address: 516 Brock St N, Whitby, ON L1N 4J2\"\n",
    "print(string[string.find(\": \")+2:])"
   ]
  },
  {
   "cell_type": "code",
   "execution_count": 31,
   "metadata": {},
   "outputs": [
    {
     "name": "stdout",
     "output_type": "stream",
     "text": [
      "Enter a location\n",
      "ChIJjcVLBGwe1YkRIneayfZZe08\n",
      "[<selenium.webdriver.remote.webelement.WebElement (session=\"0cae4f2a-037f-4b30-98bd-026f47f2dbbb\", element=\"43a7e69a-1f6d-4406-b44b-ecc8e3fb7e14\")>]\n",
      "ChIJjcVLBGwe1YkRIneayfZZe08\n"
     ]
    }
   ],
   "source": [
    "from selenium.webdriver.common.keys import Keys\n",
    "from selenium.webdriver import ActionChains\n",
    "\n",
    "import time\n",
    "browser.get('https://googlemaps.github.io/js-samples/dist/samples/places-placeid-finder/index.html')\n",
    "# id=\"pac-input\"\n",
    "input_text= browser.find_element(By.XPATH,\"//input[@id='pac-input']\")\n",
    "# for i in input_text:\n",
    "print(input_text.get_attribute('placeholder'))\n",
    "time.sleep(5)\n",
    "input_text.click()\n",
    "# input_text.send_keys(Keys.ENTER)\n",
    "input_text.send_keys(\"516 Brock St N, Whitby, ON L1N 4J2, Canada\")\n",
    "time.sleep(2)\n",
    "input_text.send_keys(Keys.ARROW_DOWN)\n",
    "input_text.send_keys(Keys.ENTER)\n",
    "# input_text.submit()\n",
    "time.sleep(2)\n",
    "by_ID=browser.find_elements(By.XPATH, \"//span[@id='place-id']\")\n",
    "for i in by_ID:\n",
    "    print(i.text)\n",
    "print(by_ID)\n",
    "print(browser.find_element(By.XPATH, \"//span[@id='place-id']\").text)"
   ]
  },
  {
   "cell_type": "code",
   "execution_count": 35,
   "metadata": {},
   "outputs": [
    {
     "name": "stdout",
     "output_type": "stream",
     "text": [
      "\n"
     ]
    }
   ],
   "source": [
    "browser.get('https://googlemaps.github.io/js-samples/dist/samples/places-placeid-finder/index.html')\n",
    "by_ID=browser.find_element(By.ID, 'place-id').text\n",
    "\n",
    "print(by_ID)    "
   ]
  },
  {
   "cell_type": "code",
   "execution_count": null,
   "metadata": {},
   "outputs": [],
   "source": []
  }
 ],
 "metadata": {
  "kernelspec": {
   "display_name": "Python 3",
   "language": "python",
   "name": "python3"
  },
  "language_info": {
   "codemirror_mode": {
    "name": "ipython",
    "version": 3
   },
   "file_extension": ".py",
   "mimetype": "text/x-python",
   "name": "python",
   "nbconvert_exporter": "python",
   "pygments_lexer": "ipython3",
   "version": "3.8.8"
  }
 },
 "nbformat": 4,
 "nbformat_minor": 4
}
